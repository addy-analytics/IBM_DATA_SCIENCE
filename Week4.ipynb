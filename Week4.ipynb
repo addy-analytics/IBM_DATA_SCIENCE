{
 "cells": [
  {
   "cell_type": "markdown",
   "id": "fc46213e",
   "metadata": {},
   "source": [
    "# My Jupyter notebook on Watson Studio"
   ]
  },
  {
   "cell_type": "markdown",
   "id": "82b69c3b",
   "metadata": {},
   "source": [
    "**Jessica Addy**"
   ]
  },
  {
   "cell_type": "markdown",
   "id": "72df1e89",
   "metadata": {},
   "source": [
    "*I am interested in Data Science because it opens me up to a world of infinite possibilities*"
   ]
  },
  {
   "cell_type": "markdown",
   "id": "e49a471d",
   "metadata": {},
   "source": [
    "### The code below will print the sum of 2+2"
   ]
  },
  {
   "cell_type": "code",
   "execution_count": 1,
   "id": "0acd8d13",
   "metadata": {},
   "outputs": [
    {
     "name": "stdout",
     "output_type": "stream",
     "text": [
      "4\n"
     ]
    }
   ],
   "source": [
    "print(2+2)"
   ]
  },
  {
   "cell_type": "markdown",
   "id": "e7b60450",
   "metadata": {},
   "source": [
    "1. one\n",
    "2. two\n",
    "\n",
    "\n",
    "~~strikethrough.~~\n",
    "\n",
    "\n",
    "~~this isn't a mistake.~~\n"
   ]
  },
  {
   "cell_type": "code",
   "execution_count": null,
   "id": "a79d7490",
   "metadata": {},
   "outputs": [],
   "source": []
  }
 ],
 "metadata": {
  "kernelspec": {
   "display_name": "Python 3 (ipykernel)",
   "language": "python",
   "name": "python3"
  },
  "language_info": {
   "codemirror_mode": {
    "name": "ipython",
    "version": 3
   },
   "file_extension": ".py",
   "mimetype": "text/x-python",
   "name": "python",
   "nbconvert_exporter": "python",
   "pygments_lexer": "ipython3",
   "version": "3.10.5"
  }
 },
 "nbformat": 4,
 "nbformat_minor": 5
}
